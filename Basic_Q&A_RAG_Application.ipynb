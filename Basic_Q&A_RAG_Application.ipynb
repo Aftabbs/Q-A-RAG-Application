{
  "nbformat": 4,
  "nbformat_minor": 0,
  "metadata": { 
    "colab": { 
      "provenance": [],
      "authorship_tag": "ABX9TyPbB5DR2h42l0PBPAXAJOhg",   
      "include_colab_link": true
    }, 
    "kernelspec": {
      "name": "python3",  
      "display_name": "Python 3" 
    },
    "language_info": {
      "name": "python"
    }
  },
  "cells": [
    {
      "cell_type": "markdown",
      "metadata": {
        "id": "view-in-github",
        "colab_type": "text"
      },
      "source": [
        "<a href=\"https://colab.research.google.com/github/Aftabbs/Q-A-RAG-Application/blob/main/Basic_Q%26A_RAG_Application.ipynb\" target=\"_parent\"><img src=\"https://colab.research.google.com/assets/colab-badge.svg\" alt=\"Open In Colab\"/></a>"
      ]
    },
    {
      "cell_type": "code",
      "execution_count": null,
      "metadata": {
        "id": "EUYWrI36wINv"
      },
      "outputs": [],
      "source": [
        "import fitz\n",
        "import faiss\n",
        "from sentence_transformers import SentenceTransformer\n",
        "from openai import OpenAI\n",
        "\n",
        "client = OpenAI(\n",
        "  base_url=\"https://integrate.api.nvidia.com/v1\",\n",
        "  api_key=\"NVIDIA-API-KEY\"\n",
        ")\n",
        "\n",
        "def extract_text_from_pdf(pdf_path):\n",
        "    doc = fitz.open(pdf_path)\n",
        "    text = \"\"\n",
        "    for page in doc:\n",
        "        text += page.get_text()\n",
        "    return text\n",
        "\n",
        "def chunk_text(text, chunk_size=500):\n",
        "    chunks = []\n",
        "    for i in range(0, len(text), chunk_size):\n",
        "        chunks.append(text[i:i+chunk_size])\n",
        "    return chunks\n",
        "\n",
        "def index_chunks(chunks):\n",
        "    model = SentenceTransformer('paraphrase-MiniLM-L6-v2')\n",
        "    embeddings = model.encode(chunks)\n",
        "    index = faiss.IndexFlatL2(embeddings.shape[1])\n",
        "    index.add(embeddings)\n",
        "    return index, embeddings\n",
        "\n",
        "def retrieve_chunks(question, chunks, index, embeddings, top_k=3):\n",
        "    model = SentenceTransformer('paraphrase-MiniLM-L6-v2')\n",
        "    question_embedding = model.encode([question])\n",
        "    distances, indices = index.search(question_embedding, top_k)\n",
        "    relevant_chunks = [chunks[i] for i in indices[0]]\n",
        "    return relevant_chunks\n",
        "\n",
        "def generate_answer(question, chunks):\n",
        "    context = \"\\n\".join(chunks)\n",
        "    messages = [\n",
        "        {\"role\": \"user\", \"content\": f\"Context: {context}\\n\\nQuestion: {question}\\nAnswer:\"}\n",
        "    ]\n",
        "    completion = client.chat.completions.create(\n",
        "        model=\"meta/llama3-8b-instruct\",\n",
        "        messages=messages,\n",
        "        temperature=0.5,\n",
        "        top_p=1,\n",
        "        max_tokens=1024,\n",
        "        stream=True\n",
        "    )\n",
        "    answer = \"\"\n",
        "    for chunk in completion:\n",
        "        if chunk.choices[0].delta.content is not None:\n",
        "            answer += chunk.choices[0].delta.content\n",
        "    return answer\n",
        "\n",
        "def main(pdf_path, question):\n",
        "    text = extract_text_from_pdf(pdf_path)\n",
        "    chunks = chunk_text(text)\n",
        "    index, embeddings = index_chunks(chunks)\n",
        "    relevant_chunks = retrieve_chunks(question, chunks, index, embeddings)\n",
        "    answer = generate_answer(question, relevant_chunks)\n",
        "    return answer\n",
        "\n",
        "pdf_path = \"/content/.pdf\"\n",
        "question = \"Ask Question?\"\n",
        "answer = main(pdf_path, question)\n",
        "print(answer)\n"
      ]
    }
  ]
}
